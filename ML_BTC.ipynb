{
 "cells": [
  {
   "cell_type": "code",
   "execution_count": 45,
   "id": "0e8c24fa-5619-43ac-a3a8-5b4223e7266c",
   "metadata": {},
   "outputs": [],
   "source": [
    "# Imports\n",
    "import pandas as pd\n",
    "import numpy as np\n",
    "from pathlib import Path\n",
    "import hvplot.pandas\n",
    "import matplotlib.pyplot as plt\n",
    "from sklearn import svm\n",
    "from sklearn.preprocessing import StandardScaler\n",
    "from sklearn.linear_model import LogisticRegression\n",
    "from pandas.tseries.offsets import DateOffset\n",
    "from sklearn.metrics import classification_report\n",
    "import yfinance as yf\n",
    "from finta import TA"
   ]
  },
  {
   "cell_type": "code",
   "execution_count": 2,
   "id": "412b8c99-b70b-4422-a4f3-3f71b433cbd0",
   "metadata": {},
   "outputs": [
    {
     "name": "stdout",
     "output_type": "stream",
     "text": [
      "[*********************100%***********************]  1 of 1 completed\n"
     ]
    },
    {
     "data": {
      "text/html": [
       "<div>\n",
       "<style scoped>\n",
       "    .dataframe tbody tr th:only-of-type {\n",
       "        vertical-align: middle;\n",
       "    }\n",
       "\n",
       "    .dataframe tbody tr th {\n",
       "        vertical-align: top;\n",
       "    }\n",
       "\n",
       "    .dataframe thead th {\n",
       "        text-align: right;\n",
       "    }\n",
       "</style>\n",
       "<table border=\"1\" class=\"dataframe\">\n",
       "  <thead>\n",
       "    <tr style=\"text-align: right;\">\n",
       "      <th></th>\n",
       "      <th>Open</th>\n",
       "      <th>High</th>\n",
       "      <th>Low</th>\n",
       "      <th>Close</th>\n",
       "      <th>Adj Close</th>\n",
       "      <th>Volume</th>\n",
       "    </tr>\n",
       "  </thead>\n",
       "  <tbody>\n",
       "    <tr>\n",
       "      <th>2020-11-25 00:00:00</th>\n",
       "      <td>19104.410156</td>\n",
       "      <td>19159.908203</td>\n",
       "      <td>19099.224609</td>\n",
       "      <td>19124.060547</td>\n",
       "      <td>19124.060547</td>\n",
       "      <td>0</td>\n",
       "    </tr>\n",
       "    <tr>\n",
       "      <th>2020-11-25 01:00:00</th>\n",
       "      <td>19123.882812</td>\n",
       "      <td>19158.197266</td>\n",
       "      <td>19038.318359</td>\n",
       "      <td>19038.318359</td>\n",
       "      <td>19038.318359</td>\n",
       "      <td>0</td>\n",
       "    </tr>\n",
       "    <tr>\n",
       "      <th>2020-11-25 02:00:00</th>\n",
       "      <td>19038.677734</td>\n",
       "      <td>19038.677734</td>\n",
       "      <td>18900.003906</td>\n",
       "      <td>18936.783203</td>\n",
       "      <td>18936.783203</td>\n",
       "      <td>97337344</td>\n",
       "    </tr>\n",
       "    <tr>\n",
       "      <th>2020-11-25 03:00:00</th>\n",
       "      <td>18936.962891</td>\n",
       "      <td>18999.089844</td>\n",
       "      <td>18780.177734</td>\n",
       "      <td>18786.453125</td>\n",
       "      <td>18786.453125</td>\n",
       "      <td>29982720</td>\n",
       "    </tr>\n",
       "    <tr>\n",
       "      <th>2020-11-25 04:00:00</th>\n",
       "      <td>18790.531250</td>\n",
       "      <td>18869.671875</td>\n",
       "      <td>18727.464844</td>\n",
       "      <td>18727.464844</td>\n",
       "      <td>18727.464844</td>\n",
       "      <td>3701309440</td>\n",
       "    </tr>\n",
       "  </tbody>\n",
       "</table>\n",
       "</div>"
      ],
      "text/plain": [
       "                             Open          High           Low         Close  \\\n",
       "2020-11-25 00:00:00  19104.410156  19159.908203  19099.224609  19124.060547   \n",
       "2020-11-25 01:00:00  19123.882812  19158.197266  19038.318359  19038.318359   \n",
       "2020-11-25 02:00:00  19038.677734  19038.677734  18900.003906  18936.783203   \n",
       "2020-11-25 03:00:00  18936.962891  18999.089844  18780.177734  18786.453125   \n",
       "2020-11-25 04:00:00  18790.531250  18869.671875  18727.464844  18727.464844   \n",
       "\n",
       "                        Adj Close      Volume  \n",
       "2020-11-25 00:00:00  19124.060547           0  \n",
       "2020-11-25 01:00:00  19038.318359           0  \n",
       "2020-11-25 02:00:00  18936.783203    97337344  \n",
       "2020-11-25 03:00:00  18786.453125    29982720  \n",
       "2020-11-25 04:00:00  18727.464844  3701309440  "
      ]
     },
     "execution_count": 2,
     "metadata": {},
     "output_type": "execute_result"
    }
   ],
   "source": [
    "ticker = \"BTC-USD\"\n",
    "\n",
    "btc_df = yf.download(ticker, period='2y',  index = \"Date\", interval = \"1h\")\n",
    "\n",
    "btc_df.head()"
   ]
  },
  {
   "cell_type": "markdown",
   "id": "15ad9bd7-c484-4400-882b-9bef773e9e7a",
   "metadata": {},
   "source": [
    "### Add daily returns column"
   ]
  },
  {
   "cell_type": "code",
   "execution_count": 3,
   "id": "5238477c-b077-43a6-9cd0-ec2b173ced16",
   "metadata": {},
   "outputs": [
    {
     "data": {
      "text/html": [
       "<div>\n",
       "<style scoped>\n",
       "    .dataframe tbody tr th:only-of-type {\n",
       "        vertical-align: middle;\n",
       "    }\n",
       "\n",
       "    .dataframe tbody tr th {\n",
       "        vertical-align: top;\n",
       "    }\n",
       "\n",
       "    .dataframe thead th {\n",
       "        text-align: right;\n",
       "    }\n",
       "</style>\n",
       "<table border=\"1\" class=\"dataframe\">\n",
       "  <thead>\n",
       "    <tr style=\"text-align: right;\">\n",
       "      <th></th>\n",
       "      <th>Open</th>\n",
       "      <th>High</th>\n",
       "      <th>Low</th>\n",
       "      <th>Close</th>\n",
       "      <th>Adj Close</th>\n",
       "      <th>Volume</th>\n",
       "      <th>actual_returns</th>\n",
       "    </tr>\n",
       "  </thead>\n",
       "  <tbody>\n",
       "    <tr>\n",
       "      <th>2020-11-25 01:00:00</th>\n",
       "      <td>19123.882812</td>\n",
       "      <td>19158.197266</td>\n",
       "      <td>19038.318359</td>\n",
       "      <td>19038.318359</td>\n",
       "      <td>19038.318359</td>\n",
       "      <td>0</td>\n",
       "      <td>-0.004483</td>\n",
       "    </tr>\n",
       "    <tr>\n",
       "      <th>2020-11-25 02:00:00</th>\n",
       "      <td>19038.677734</td>\n",
       "      <td>19038.677734</td>\n",
       "      <td>18900.003906</td>\n",
       "      <td>18936.783203</td>\n",
       "      <td>18936.783203</td>\n",
       "      <td>97337344</td>\n",
       "      <td>-0.005333</td>\n",
       "    </tr>\n",
       "    <tr>\n",
       "      <th>2020-11-25 03:00:00</th>\n",
       "      <td>18936.962891</td>\n",
       "      <td>18999.089844</td>\n",
       "      <td>18780.177734</td>\n",
       "      <td>18786.453125</td>\n",
       "      <td>18786.453125</td>\n",
       "      <td>29982720</td>\n",
       "      <td>-0.007939</td>\n",
       "    </tr>\n",
       "    <tr>\n",
       "      <th>2020-11-25 04:00:00</th>\n",
       "      <td>18790.531250</td>\n",
       "      <td>18869.671875</td>\n",
       "      <td>18727.464844</td>\n",
       "      <td>18727.464844</td>\n",
       "      <td>18727.464844</td>\n",
       "      <td>3701309440</td>\n",
       "      <td>-0.003140</td>\n",
       "    </tr>\n",
       "    <tr>\n",
       "      <th>2020-11-25 05:00:00</th>\n",
       "      <td>18723.644531</td>\n",
       "      <td>18862.431641</td>\n",
       "      <td>18664.458984</td>\n",
       "      <td>18856.312500</td>\n",
       "      <td>18856.312500</td>\n",
       "      <td>334143488</td>\n",
       "      <td>0.006880</td>\n",
       "    </tr>\n",
       "  </tbody>\n",
       "</table>\n",
       "</div>"
      ],
      "text/plain": [
       "                             Open          High           Low         Close  \\\n",
       "2020-11-25 01:00:00  19123.882812  19158.197266  19038.318359  19038.318359   \n",
       "2020-11-25 02:00:00  19038.677734  19038.677734  18900.003906  18936.783203   \n",
       "2020-11-25 03:00:00  18936.962891  18999.089844  18780.177734  18786.453125   \n",
       "2020-11-25 04:00:00  18790.531250  18869.671875  18727.464844  18727.464844   \n",
       "2020-11-25 05:00:00  18723.644531  18862.431641  18664.458984  18856.312500   \n",
       "\n",
       "                        Adj Close      Volume  actual_returns  \n",
       "2020-11-25 01:00:00  19038.318359           0       -0.004483  \n",
       "2020-11-25 02:00:00  18936.783203    97337344       -0.005333  \n",
       "2020-11-25 03:00:00  18786.453125    29982720       -0.007939  \n",
       "2020-11-25 04:00:00  18727.464844  3701309440       -0.003140  \n",
       "2020-11-25 05:00:00  18856.312500   334143488        0.006880  "
      ]
     },
     "metadata": {},
     "output_type": "display_data"
    },
    {
     "data": {
      "text/html": [
       "<div>\n",
       "<style scoped>\n",
       "    .dataframe tbody tr th:only-of-type {\n",
       "        vertical-align: middle;\n",
       "    }\n",
       "\n",
       "    .dataframe tbody tr th {\n",
       "        vertical-align: top;\n",
       "    }\n",
       "\n",
       "    .dataframe thead th {\n",
       "        text-align: right;\n",
       "    }\n",
       "</style>\n",
       "<table border=\"1\" class=\"dataframe\">\n",
       "  <thead>\n",
       "    <tr style=\"text-align: right;\">\n",
       "      <th></th>\n",
       "      <th>Open</th>\n",
       "      <th>High</th>\n",
       "      <th>Low</th>\n",
       "      <th>Close</th>\n",
       "      <th>Adj Close</th>\n",
       "      <th>Volume</th>\n",
       "      <th>actual_returns</th>\n",
       "    </tr>\n",
       "  </thead>\n",
       "  <tbody>\n",
       "    <tr>\n",
       "      <th>2022-11-24 17:00:00</th>\n",
       "      <td>16618.875000</td>\n",
       "      <td>16640.017578</td>\n",
       "      <td>16597.021484</td>\n",
       "      <td>16597.021484</td>\n",
       "      <td>16597.021484</td>\n",
       "      <td>0</td>\n",
       "      <td>-0.001226</td>\n",
       "    </tr>\n",
       "    <tr>\n",
       "      <th>2022-11-24 18:00:00</th>\n",
       "      <td>16596.216797</td>\n",
       "      <td>16596.216797</td>\n",
       "      <td>16562.267578</td>\n",
       "      <td>16577.080078</td>\n",
       "      <td>16577.080078</td>\n",
       "      <td>0</td>\n",
       "      <td>-0.001202</td>\n",
       "    </tr>\n",
       "    <tr>\n",
       "      <th>2022-11-24 19:00:00</th>\n",
       "      <td>16579.537109</td>\n",
       "      <td>16585.966797</td>\n",
       "      <td>16564.498047</td>\n",
       "      <td>16571.197266</td>\n",
       "      <td>16571.197266</td>\n",
       "      <td>0</td>\n",
       "      <td>-0.000355</td>\n",
       "    </tr>\n",
       "    <tr>\n",
       "      <th>2022-11-25 00:00:00</th>\n",
       "      <td>16602.269531</td>\n",
       "      <td>16603.316406</td>\n",
       "      <td>16535.417969</td>\n",
       "      <td>16547.609375</td>\n",
       "      <td>16547.609375</td>\n",
       "      <td>210003968</td>\n",
       "      <td>-0.001423</td>\n",
       "    </tr>\n",
       "    <tr>\n",
       "      <th>2022-11-25 00:35:00</th>\n",
       "      <td>16544.486328</td>\n",
       "      <td>16544.486328</td>\n",
       "      <td>16544.486328</td>\n",
       "      <td>16544.486328</td>\n",
       "      <td>16544.486328</td>\n",
       "      <td>0</td>\n",
       "      <td>-0.000189</td>\n",
       "    </tr>\n",
       "  </tbody>\n",
       "</table>\n",
       "</div>"
      ],
      "text/plain": [
       "                             Open          High           Low         Close  \\\n",
       "2022-11-24 17:00:00  16618.875000  16640.017578  16597.021484  16597.021484   \n",
       "2022-11-24 18:00:00  16596.216797  16596.216797  16562.267578  16577.080078   \n",
       "2022-11-24 19:00:00  16579.537109  16585.966797  16564.498047  16571.197266   \n",
       "2022-11-25 00:00:00  16602.269531  16603.316406  16535.417969  16547.609375   \n",
       "2022-11-25 00:35:00  16544.486328  16544.486328  16544.486328  16544.486328   \n",
       "\n",
       "                        Adj Close     Volume  actual_returns  \n",
       "2022-11-24 17:00:00  16597.021484          0       -0.001226  \n",
       "2022-11-24 18:00:00  16577.080078          0       -0.001202  \n",
       "2022-11-24 19:00:00  16571.197266          0       -0.000355  \n",
       "2022-11-25 00:00:00  16547.609375  210003968       -0.001423  \n",
       "2022-11-25 00:35:00  16544.486328          0       -0.000189  "
      ]
     },
     "metadata": {},
     "output_type": "display_data"
    }
   ],
   "source": [
    "# Calculate the daily returns using the closing prices and the pct_change function\n",
    "btc_df[\"actual_returns\"] = btc_df[\"Close\"].pct_change()\n",
    "\n",
    "# Drop all NaN values from the DataFrame\n",
    "btc_df = btc_df.dropna()\n",
    "\n",
    "# Review the DataFrame\n",
    "display(btc_df.head())\n",
    "display(btc_df.tail())"
   ]
  },
  {
   "cell_type": "markdown",
   "id": "19d700cf-596f-4967-8494-9143358de3df",
   "metadata": {},
   "source": [
    "### Generating the Features and Target Sets"
   ]
  },
  {
   "cell_type": "code",
   "execution_count": 4,
   "id": "a0ccd1da-c21b-443d-b750-e457cd09d6a3",
   "metadata": {},
   "outputs": [
    {
     "name": "stderr",
     "output_type": "stream",
     "text": [
      "D:\\Anaconda\\envs\\algotrading\\lib\\site-packages\\ipykernel_launcher.py:8: SettingWithCopyWarning: \n",
      "A value is trying to be set on a copy of a slice from a DataFrame.\n",
      "Try using .loc[row_indexer,col_indexer] = value instead\n",
      "\n",
      "See the caveats in the documentation: https://pandas.pydata.org/pandas-docs/stable/user_guide/indexing.html#returning-a-view-versus-a-copy\n",
      "  \n",
      "D:\\Anaconda\\envs\\algotrading\\lib\\site-packages\\ipykernel_launcher.py:11: SettingWithCopyWarning: \n",
      "A value is trying to be set on a copy of a slice from a DataFrame.\n",
      "Try using .loc[row_indexer,col_indexer] = value instead\n",
      "\n",
      "See the caveats in the documentation: https://pandas.pydata.org/pandas-docs/stable/user_guide/indexing.html#returning-a-view-versus-a-copy\n",
      "  # This is added back by InteractiveShellApp.init_path()\n",
      "D:\\Anaconda\\envs\\algotrading\\lib\\site-packages\\ipykernel_launcher.py:14: SettingWithCopyWarning: \n",
      "A value is trying to be set on a copy of a slice from a DataFrame.\n",
      "Try using .loc[row_indexer,col_indexer] = value instead\n",
      "\n",
      "See the caveats in the documentation: https://pandas.pydata.org/pandas-docs/stable/user_guide/indexing.html#returning-a-view-versus-a-copy\n",
      "  \n"
     ]
    }
   ],
   "source": [
    "# Generate 3EMA with windows 50, 100, 200\n",
    "\n",
    "short_window = 50\n",
    "middle_window = 100\n",
    "long_window = 200\n",
    "\n",
    "# Create a short window EMA\n",
    "btc_df[\"EMA50\"] = btc_df[\"Close\"].ewm(span=short_window).mean()\n",
    "\n",
    "# Create a middle window EMA\n",
    "btc_df[\"EMA100\"] = btc_df[\"Close\"].ewm(span=middle_window).mean()\n",
    "\n",
    "# Create a short window EMA\n",
    "btc_df[\"EMA200\"] = btc_df[\"Close\"].ewm(span=long_window).mean()"
   ]
  },
  {
   "cell_type": "code",
   "execution_count": 5,
   "id": "867692bf-4773-4416-bcb1-1aa392de25ca",
   "metadata": {},
   "outputs": [],
   "source": [
    "# Generate RSI\n",
    "btc_rsi = TA.RSI(btc_df)  \n",
    "\n",
    "# Join RSI with the original dataframe.\n",
    "btc_df = pd.concat([btc_df, btc_rsi], axis = 1)"
   ]
  },
  {
   "cell_type": "code",
   "execution_count": 6,
   "id": "68cbbf28-a96d-4795-bb0c-1c2aedb8e873",
   "metadata": {},
   "outputs": [],
   "source": [
    "# Generate Bolinger Bands\n",
    "btc_bbands_df = TA.BBANDS(btc_df)\n",
    "\n",
    "# Concatenate the Bollinger Bands to the DataFrame\n",
    "btc_df = pd.concat([btc_df,btc_bbands_df], axis=1)"
   ]
  },
  {
   "cell_type": "code",
   "execution_count": 7,
   "id": "e12ea5ff-a0b4-479e-b854-53acd0a88959",
   "metadata": {},
   "outputs": [
    {
     "data": {
      "text/html": [
       "<div>\n",
       "<style scoped>\n",
       "    .dataframe tbody tr th:only-of-type {\n",
       "        vertical-align: middle;\n",
       "    }\n",
       "\n",
       "    .dataframe tbody tr th {\n",
       "        vertical-align: top;\n",
       "    }\n",
       "\n",
       "    .dataframe thead th {\n",
       "        text-align: right;\n",
       "    }\n",
       "</style>\n",
       "<table border=\"1\" class=\"dataframe\">\n",
       "  <thead>\n",
       "    <tr style=\"text-align: right;\">\n",
       "      <th></th>\n",
       "      <th>Open</th>\n",
       "      <th>High</th>\n",
       "      <th>Low</th>\n",
       "      <th>Close</th>\n",
       "      <th>Adj Close</th>\n",
       "      <th>Volume</th>\n",
       "      <th>actual_returns</th>\n",
       "      <th>EMA50</th>\n",
       "      <th>EMA100</th>\n",
       "      <th>EMA200</th>\n",
       "      <th>14 period RSI</th>\n",
       "      <th>BB_UPPER</th>\n",
       "      <th>BB_MIDDLE</th>\n",
       "      <th>BB_LOWER</th>\n",
       "    </tr>\n",
       "  </thead>\n",
       "  <tbody>\n",
       "    <tr>\n",
       "      <th>2020-11-29 04:00:00</th>\n",
       "      <td>17793.132812</td>\n",
       "      <td>17843.310547</td>\n",
       "      <td>17780.669922</td>\n",
       "      <td>17781.191406</td>\n",
       "      <td>17781.191406</td>\n",
       "      <td>718780416</td>\n",
       "      <td>0.000071</td>\n",
       "      <td>17206.747734</td>\n",
       "      <td>17659.518711</td>\n",
       "      <td>17528.707236</td>\n",
       "      <td>64.415857</td>\n",
       "      <td>18080.332508</td>\n",
       "      <td>17551.505762</td>\n",
       "      <td>17022.679016</td>\n",
       "    </tr>\n",
       "    <tr>\n",
       "      <th>2020-11-29 05:00:00</th>\n",
       "      <td>17779.697266</td>\n",
       "      <td>17821.914062</td>\n",
       "      <td>17768.056641</td>\n",
       "      <td>17798.435547</td>\n",
       "      <td>17798.435547</td>\n",
       "      <td>170309632</td>\n",
       "      <td>0.000970</td>\n",
       "      <td>17220.848008</td>\n",
       "      <td>17647.119883</td>\n",
       "      <td>17532.928581</td>\n",
       "      <td>65.021829</td>\n",
       "      <td>18051.250231</td>\n",
       "      <td>17593.839258</td>\n",
       "      <td>17136.428284</td>\n",
       "    </tr>\n",
       "    <tr>\n",
       "      <th>2020-11-29 06:00:00</th>\n",
       "      <td>17797.798828</td>\n",
       "      <td>17797.798828</td>\n",
       "      <td>17728.861328</td>\n",
       "      <td>17754.179688</td>\n",
       "      <td>17754.179688</td>\n",
       "      <td>134295552</td>\n",
       "      <td>-0.002487</td>\n",
       "      <td>17233.802109</td>\n",
       "      <td>17635.293848</td>\n",
       "      <td>17536.371614</td>\n",
       "      <td>62.099057</td>\n",
       "      <td>18046.361986</td>\n",
       "      <td>17620.898438</td>\n",
       "      <td>17195.434889</td>\n",
       "    </tr>\n",
       "    <tr>\n",
       "      <th>2020-11-29 07:00:00</th>\n",
       "      <td>17754.025391</td>\n",
       "      <td>17896.707031</td>\n",
       "      <td>17695.884766</td>\n",
       "      <td>17892.378906</td>\n",
       "      <td>17892.378906</td>\n",
       "      <td>452956160</td>\n",
       "      <td>0.007784</td>\n",
       "      <td>17245.880391</td>\n",
       "      <td>17626.353105</td>\n",
       "      <td>17541.880763</td>\n",
       "      <td>67.076052</td>\n",
       "      <td>18042.963587</td>\n",
       "      <td>17656.801660</td>\n",
       "      <td>17270.639734</td>\n",
       "    </tr>\n",
       "    <tr>\n",
       "      <th>2020-11-29 08:00:00</th>\n",
       "      <td>17890.439453</td>\n",
       "      <td>18133.156250</td>\n",
       "      <td>17884.257812</td>\n",
       "      <td>18133.156250</td>\n",
       "      <td>18133.156250</td>\n",
       "      <td>551442432</td>\n",
       "      <td>0.013457</td>\n",
       "      <td>17262.484688</td>\n",
       "      <td>17620.410020</td>\n",
       "      <td>17550.980373</td>\n",
       "      <td>73.584418</td>\n",
       "      <td>18068.223813</td>\n",
       "      <td>17706.312695</td>\n",
       "      <td>17344.401578</td>\n",
       "    </tr>\n",
       "  </tbody>\n",
       "</table>\n",
       "</div>"
      ],
      "text/plain": [
       "                             Open          High           Low         Close  \\\n",
       "2020-11-29 04:00:00  17793.132812  17843.310547  17780.669922  17781.191406   \n",
       "2020-11-29 05:00:00  17779.697266  17821.914062  17768.056641  17798.435547   \n",
       "2020-11-29 06:00:00  17797.798828  17797.798828  17728.861328  17754.179688   \n",
       "2020-11-29 07:00:00  17754.025391  17896.707031  17695.884766  17892.378906   \n",
       "2020-11-29 08:00:00  17890.439453  18133.156250  17884.257812  18133.156250   \n",
       "\n",
       "                        Adj Close     Volume  actual_returns         EMA50  \\\n",
       "2020-11-29 04:00:00  17781.191406  718780416        0.000071  17206.747734   \n",
       "2020-11-29 05:00:00  17798.435547  170309632        0.000970  17220.848008   \n",
       "2020-11-29 06:00:00  17754.179688  134295552       -0.002487  17233.802109   \n",
       "2020-11-29 07:00:00  17892.378906  452956160        0.007784  17245.880391   \n",
       "2020-11-29 08:00:00  18133.156250  551442432        0.013457  17262.484688   \n",
       "\n",
       "                           EMA100        EMA200  14 period RSI      BB_UPPER  \\\n",
       "2020-11-29 04:00:00  17659.518711  17528.707236      64.415857  18080.332508   \n",
       "2020-11-29 05:00:00  17647.119883  17532.928581      65.021829  18051.250231   \n",
       "2020-11-29 06:00:00  17635.293848  17536.371614      62.099057  18046.361986   \n",
       "2020-11-29 07:00:00  17626.353105  17541.880763      67.076052  18042.963587   \n",
       "2020-11-29 08:00:00  17620.410020  17550.980373      73.584418  18068.223813   \n",
       "\n",
       "                        BB_MIDDLE      BB_LOWER  \n",
       "2020-11-29 04:00:00  17551.505762  17022.679016  \n",
       "2020-11-29 05:00:00  17593.839258  17136.428284  \n",
       "2020-11-29 06:00:00  17620.898438  17195.434889  \n",
       "2020-11-29 07:00:00  17656.801660  17270.639734  \n",
       "2020-11-29 08:00:00  17706.312695  17344.401578  "
      ]
     },
     "execution_count": 7,
     "metadata": {},
     "output_type": "execute_result"
    }
   ],
   "source": [
    "# Drop nulls & review new df\n",
    "btc_df = btc_df.dropna()\n",
    "\n",
    "btc_df.head()"
   ]
  },
  {
   "cell_type": "markdown",
   "id": "720dccae-3cd7-4bed-8609-fe610b73629a",
   "metadata": {},
   "source": [
    "### Create feature set"
   ]
  },
  {
   "cell_type": "code",
   "execution_count": 29,
   "id": "42b6bd99-ff31-4a4a-8d32-1b3c0be32c11",
   "metadata": {},
   "outputs": [
    {
     "data": {
      "text/html": [
       "<div>\n",
       "<style scoped>\n",
       "    .dataframe tbody tr th:only-of-type {\n",
       "        vertical-align: middle;\n",
       "    }\n",
       "\n",
       "    .dataframe tbody tr th {\n",
       "        vertical-align: top;\n",
       "    }\n",
       "\n",
       "    .dataframe thead th {\n",
       "        text-align: right;\n",
       "    }\n",
       "</style>\n",
       "<table border=\"1\" class=\"dataframe\">\n",
       "  <thead>\n",
       "    <tr style=\"text-align: right;\">\n",
       "      <th></th>\n",
       "      <th>EMA50</th>\n",
       "      <th>EMA100</th>\n",
       "      <th>EMA200</th>\n",
       "      <th>14 period RSI</th>\n",
       "      <th>BB_UPPER</th>\n",
       "      <th>BB_MIDDLE</th>\n",
       "      <th>BB_LOWER</th>\n",
       "    </tr>\n",
       "  </thead>\n",
       "  <tbody>\n",
       "    <tr>\n",
       "      <th>2022-11-24 17:00:00</th>\n",
       "      <td>16479.666094</td>\n",
       "      <td>16272.102520</td>\n",
       "      <td>16550.075920</td>\n",
       "      <td>53.722002</td>\n",
       "      <td>16752.579629</td>\n",
       "      <td>16613.703809</td>\n",
       "      <td>16474.827988</td>\n",
       "    </tr>\n",
       "    <tr>\n",
       "      <th>2022-11-24 18:00:00</th>\n",
       "      <td>16487.532988</td>\n",
       "      <td>16272.342207</td>\n",
       "      <td>16550.344618</td>\n",
       "      <td>51.869441</td>\n",
       "      <td>16748.147133</td>\n",
       "      <td>16617.170215</td>\n",
       "      <td>16486.193297</td>\n",
       "    </tr>\n",
       "    <tr>\n",
       "      <th>2022-11-24 19:00:00</th>\n",
       "      <td>16496.768496</td>\n",
       "      <td>16272.281680</td>\n",
       "      <td>16550.552107</td>\n",
       "      <td>51.307341</td>\n",
       "      <td>16747.872241</td>\n",
       "      <td>16615.327539</td>\n",
       "      <td>16482.782837</td>\n",
       "    </tr>\n",
       "    <tr>\n",
       "      <th>2022-11-25 00:00:00</th>\n",
       "      <td>16504.829316</td>\n",
       "      <td>16271.961426</td>\n",
       "      <td>16550.522826</td>\n",
       "      <td>49.013787</td>\n",
       "      <td>16747.790498</td>\n",
       "      <td>16615.397070</td>\n",
       "      <td>16483.003642</td>\n",
       "    </tr>\n",
       "    <tr>\n",
       "      <th>2022-11-25 00:35:00</th>\n",
       "      <td>16512.322441</td>\n",
       "      <td>16271.882324</td>\n",
       "      <td>16550.462761</td>\n",
       "      <td>48.703358</td>\n",
       "      <td>16725.247321</td>\n",
       "      <td>16605.191895</td>\n",
       "      <td>16485.136468</td>\n",
       "    </tr>\n",
       "  </tbody>\n",
       "</table>\n",
       "</div>"
      ],
      "text/plain": [
       "                            EMA50        EMA100        EMA200  14 period RSI  \\\n",
       "2022-11-24 17:00:00  16479.666094  16272.102520  16550.075920      53.722002   \n",
       "2022-11-24 18:00:00  16487.532988  16272.342207  16550.344618      51.869441   \n",
       "2022-11-24 19:00:00  16496.768496  16272.281680  16550.552107      51.307341   \n",
       "2022-11-25 00:00:00  16504.829316  16271.961426  16550.522826      49.013787   \n",
       "2022-11-25 00:35:00  16512.322441  16271.882324  16550.462761      48.703358   \n",
       "\n",
       "                         BB_UPPER     BB_MIDDLE      BB_LOWER  \n",
       "2022-11-24 17:00:00  16752.579629  16613.703809  16474.827988  \n",
       "2022-11-24 18:00:00  16748.147133  16617.170215  16486.193297  \n",
       "2022-11-24 19:00:00  16747.872241  16615.327539  16482.782837  \n",
       "2022-11-25 00:00:00  16747.790498  16615.397070  16483.003642  \n",
       "2022-11-25 00:35:00  16725.247321  16605.191895  16485.136468  "
      ]
     },
     "metadata": {},
     "output_type": "display_data"
    }
   ],
   "source": [
    "# Assign a copy of the sma_fast and sma_slow columns to a new DataFrame called X\n",
    "X = btc_df[[\"EMA50\", \"EMA100\", \"EMA200\", \"14 period RSI\", \"BB_UPPER\", \"BB_MIDDLE\", \"BB_LOWER\"]].copy()\n",
    "\n",
    "# Display sample data\n",
    "display(X.tail())"
   ]
  },
  {
   "cell_type": "markdown",
   "id": "c9a62e3b-646c-4578-8ceb-f1733645560c",
   "metadata": {},
   "source": [
    "### Create target set"
   ]
  },
  {
   "cell_type": "code",
   "execution_count": 30,
   "id": "5abd9ddf-3ea4-4c6a-a6da-7741d6a4f8f4",
   "metadata": {},
   "outputs": [],
   "source": [
    "# Create a new column in the btc_df called signal setting its value to zero.\n",
    "btc_df[\"signal\"] = 0.0"
   ]
  },
  {
   "cell_type": "code",
   "execution_count": 31,
   "id": "3ccce674-e04d-41f8-a111-c144a7190ea4",
   "metadata": {},
   "outputs": [],
   "source": [
    "# Create the signal to buy\n",
    "btc_df.loc[(btc_df[\"actual_returns\"] >= 0), \"signal\"] = 1"
   ]
  },
  {
   "cell_type": "code",
   "execution_count": 32,
   "id": "4a52cabe-9239-46e1-bccd-e57ea2477318",
   "metadata": {},
   "outputs": [],
   "source": [
    "# Create the signal to sell\n",
    "btc_df.loc[(btc_df[\"actual_returns\"] < 0), \"signal\"] = -1"
   ]
  },
  {
   "cell_type": "code",
   "execution_count": 33,
   "id": "5d482e8f-d958-40e2-b916-08992094e2a8",
   "metadata": {},
   "outputs": [],
   "source": [
    "# Copy the new signal column to a new Series called y.\n",
    "y = btc_df[\"signal\"].copy()"
   ]
  },
  {
   "cell_type": "markdown",
   "id": "fdb20fb3-97e8-4e55-aa8d-516ab1bc51c7",
   "metadata": {},
   "source": [
    "### Split the Data Into Training and Testing Datasets"
   ]
  },
  {
   "cell_type": "code",
   "execution_count": 34,
   "id": "f1fe5970-b7c4-4584-880e-2ef1f4a29dec",
   "metadata": {},
   "outputs": [
    {
     "name": "stdout",
     "output_type": "stream",
     "text": [
      "2020-11-29 04:00:00\n"
     ]
    }
   ],
   "source": [
    "# Select the start of the training period\n",
    "training_begin = X.index.min()\n",
    "\n",
    "# Display the training begin date\n",
    "print(training_begin)"
   ]
  },
  {
   "cell_type": "code",
   "execution_count": 35,
   "id": "9e4be36f-e036-4b49-a456-2d5334f82bba",
   "metadata": {},
   "outputs": [
    {
     "name": "stdout",
     "output_type": "stream",
     "text": [
      "2021-02-28 04:00:00\n"
     ]
    }
   ],
   "source": [
    "# Select the ending period for the training data with an offset of 3 months\n",
    "training_end = X.index.min() + DateOffset(months=3)\n",
    "\n",
    "# Display the training end date\n",
    "print(training_end)"
   ]
  },
  {
   "cell_type": "code",
   "execution_count": 36,
   "id": "5ada7288-7783-475b-812d-84f68de909b4",
   "metadata": {},
   "outputs": [
    {
     "data": {
      "text/html": [
       "<div>\n",
       "<style scoped>\n",
       "    .dataframe tbody tr th:only-of-type {\n",
       "        vertical-align: middle;\n",
       "    }\n",
       "\n",
       "    .dataframe tbody tr th {\n",
       "        vertical-align: top;\n",
       "    }\n",
       "\n",
       "    .dataframe thead th {\n",
       "        text-align: right;\n",
       "    }\n",
       "</style>\n",
       "<table border=\"1\" class=\"dataframe\">\n",
       "  <thead>\n",
       "    <tr style=\"text-align: right;\">\n",
       "      <th></th>\n",
       "      <th>EMA50</th>\n",
       "      <th>EMA100</th>\n",
       "      <th>EMA200</th>\n",
       "      <th>14 period RSI</th>\n",
       "      <th>BB_UPPER</th>\n",
       "      <th>BB_MIDDLE</th>\n",
       "      <th>BB_LOWER</th>\n",
       "    </tr>\n",
       "  </thead>\n",
       "  <tbody>\n",
       "    <tr>\n",
       "      <th>2020-11-29 04:00:00</th>\n",
       "      <td>17206.747734</td>\n",
       "      <td>17659.518711</td>\n",
       "      <td>17528.707236</td>\n",
       "      <td>64.415857</td>\n",
       "      <td>18080.332508</td>\n",
       "      <td>17551.505762</td>\n",
       "      <td>17022.679016</td>\n",
       "    </tr>\n",
       "    <tr>\n",
       "      <th>2020-11-29 05:00:00</th>\n",
       "      <td>17220.848008</td>\n",
       "      <td>17647.119883</td>\n",
       "      <td>17532.928581</td>\n",
       "      <td>65.021829</td>\n",
       "      <td>18051.250231</td>\n",
       "      <td>17593.839258</td>\n",
       "      <td>17136.428284</td>\n",
       "    </tr>\n",
       "    <tr>\n",
       "      <th>2020-11-29 06:00:00</th>\n",
       "      <td>17233.802109</td>\n",
       "      <td>17635.293848</td>\n",
       "      <td>17536.371614</td>\n",
       "      <td>62.099057</td>\n",
       "      <td>18046.361986</td>\n",
       "      <td>17620.898438</td>\n",
       "      <td>17195.434889</td>\n",
       "    </tr>\n",
       "    <tr>\n",
       "      <th>2020-11-29 07:00:00</th>\n",
       "      <td>17245.880391</td>\n",
       "      <td>17626.353105</td>\n",
       "      <td>17541.880763</td>\n",
       "      <td>67.076052</td>\n",
       "      <td>18042.963587</td>\n",
       "      <td>17656.801660</td>\n",
       "      <td>17270.639734</td>\n",
       "    </tr>\n",
       "    <tr>\n",
       "      <th>2020-11-29 08:00:00</th>\n",
       "      <td>17262.484688</td>\n",
       "      <td>17620.410020</td>\n",
       "      <td>17550.980373</td>\n",
       "      <td>73.584418</td>\n",
       "      <td>18068.223813</td>\n",
       "      <td>17706.312695</td>\n",
       "      <td>17344.401578</td>\n",
       "    </tr>\n",
       "  </tbody>\n",
       "</table>\n",
       "</div>"
      ],
      "text/plain": [
       "                            EMA50        EMA100        EMA200  14 period RSI  \\\n",
       "2020-11-29 04:00:00  17206.747734  17659.518711  17528.707236      64.415857   \n",
       "2020-11-29 05:00:00  17220.848008  17647.119883  17532.928581      65.021829   \n",
       "2020-11-29 06:00:00  17233.802109  17635.293848  17536.371614      62.099057   \n",
       "2020-11-29 07:00:00  17245.880391  17626.353105  17541.880763      67.076052   \n",
       "2020-11-29 08:00:00  17262.484688  17620.410020  17550.980373      73.584418   \n",
       "\n",
       "                         BB_UPPER     BB_MIDDLE      BB_LOWER  \n",
       "2020-11-29 04:00:00  18080.332508  17551.505762  17022.679016  \n",
       "2020-11-29 05:00:00  18051.250231  17593.839258  17136.428284  \n",
       "2020-11-29 06:00:00  18046.361986  17620.898438  17195.434889  \n",
       "2020-11-29 07:00:00  18042.963587  17656.801660  17270.639734  \n",
       "2020-11-29 08:00:00  18068.223813  17706.312695  17344.401578  "
      ]
     },
     "execution_count": 36,
     "metadata": {},
     "output_type": "execute_result"
    }
   ],
   "source": [
    "# Generate the X_train and y_train DataFrames\n",
    "X_train = X.loc[training_begin:training_end]\n",
    "y_train = y.loc[training_begin:training_end]\n",
    "\n",
    "# Display sample data\n",
    "X_train.head()"
   ]
  },
  {
   "cell_type": "code",
   "execution_count": 37,
   "id": "dc4e964a-abe7-4028-b931-6f69b4af971e",
   "metadata": {},
   "outputs": [
    {
     "data": {
      "text/html": [
       "<div>\n",
       "<style scoped>\n",
       "    .dataframe tbody tr th:only-of-type {\n",
       "        vertical-align: middle;\n",
       "    }\n",
       "\n",
       "    .dataframe tbody tr th {\n",
       "        vertical-align: top;\n",
       "    }\n",
       "\n",
       "    .dataframe thead th {\n",
       "        text-align: right;\n",
       "    }\n",
       "</style>\n",
       "<table border=\"1\" class=\"dataframe\">\n",
       "  <thead>\n",
       "    <tr style=\"text-align: right;\">\n",
       "      <th></th>\n",
       "      <th>EMA50</th>\n",
       "      <th>EMA100</th>\n",
       "      <th>EMA200</th>\n",
       "      <th>14 period RSI</th>\n",
       "      <th>BB_UPPER</th>\n",
       "      <th>BB_MIDDLE</th>\n",
       "      <th>BB_LOWER</th>\n",
       "    </tr>\n",
       "  </thead>\n",
       "  <tbody>\n",
       "    <tr>\n",
       "      <th>2021-02-28 04:00:00</th>\n",
       "      <td>46779.068750</td>\n",
       "      <td>48276.271914</td>\n",
       "      <td>49330.183992</td>\n",
       "      <td>29.884812</td>\n",
       "      <td>48265.355204</td>\n",
       "      <td>46652.712109</td>\n",
       "      <td>45040.069014</td>\n",
       "    </tr>\n",
       "    <tr>\n",
       "      <th>2021-02-28 05:00:00</th>\n",
       "      <td>46728.796406</td>\n",
       "      <td>48225.850156</td>\n",
       "      <td>49286.241163</td>\n",
       "      <td>32.943938</td>\n",
       "      <td>48352.691151</td>\n",
       "      <td>46563.086328</td>\n",
       "      <td>44773.481505</td>\n",
       "    </tr>\n",
       "    <tr>\n",
       "      <th>2021-02-28 06:00:00</th>\n",
       "      <td>46680.788437</td>\n",
       "      <td>48168.806797</td>\n",
       "      <td>49239.844407</td>\n",
       "      <td>30.966477</td>\n",
       "      <td>48425.573033</td>\n",
       "      <td>46447.919727</td>\n",
       "      <td>44470.266420</td>\n",
       "    </tr>\n",
       "    <tr>\n",
       "      <th>2021-02-28 07:00:00</th>\n",
       "      <td>46657.026172</td>\n",
       "      <td>48105.268633</td>\n",
       "      <td>49193.505897</td>\n",
       "      <td>30.689665</td>\n",
       "      <td>48404.250116</td>\n",
       "      <td>46309.267773</td>\n",
       "      <td>44214.285431</td>\n",
       "    </tr>\n",
       "    <tr>\n",
       "      <th>2021-02-28 08:00:00</th>\n",
       "      <td>46631.526094</td>\n",
       "      <td>48047.306602</td>\n",
       "      <td>49151.691512</td>\n",
       "      <td>36.815827</td>\n",
       "      <td>48294.319843</td>\n",
       "      <td>46188.129687</td>\n",
       "      <td>44081.939532</td>\n",
       "    </tr>\n",
       "  </tbody>\n",
       "</table>\n",
       "</div>"
      ],
      "text/plain": [
       "                            EMA50        EMA100        EMA200  14 period RSI  \\\n",
       "2021-02-28 04:00:00  46779.068750  48276.271914  49330.183992      29.884812   \n",
       "2021-02-28 05:00:00  46728.796406  48225.850156  49286.241163      32.943938   \n",
       "2021-02-28 06:00:00  46680.788437  48168.806797  49239.844407      30.966477   \n",
       "2021-02-28 07:00:00  46657.026172  48105.268633  49193.505897      30.689665   \n",
       "2021-02-28 08:00:00  46631.526094  48047.306602  49151.691512      36.815827   \n",
       "\n",
       "                         BB_UPPER     BB_MIDDLE      BB_LOWER  \n",
       "2021-02-28 04:00:00  48265.355204  46652.712109  45040.069014  \n",
       "2021-02-28 05:00:00  48352.691151  46563.086328  44773.481505  \n",
       "2021-02-28 06:00:00  48425.573033  46447.919727  44470.266420  \n",
       "2021-02-28 07:00:00  48404.250116  46309.267773  44214.285431  \n",
       "2021-02-28 08:00:00  48294.319843  46188.129687  44081.939532  "
      ]
     },
     "execution_count": 37,
     "metadata": {},
     "output_type": "execute_result"
    }
   ],
   "source": [
    "# Generate the X_test and y_test DataFrames\n",
    "X_test = X.loc[training_end:]\n",
    "y_test = y.loc[training_end:]\n",
    "\n",
    "# Display sample data\n",
    "X_test.head()"
   ]
  },
  {
   "cell_type": "markdown",
   "id": "8fe02772-0ee9-4b9e-a408-20704933421c",
   "metadata": {},
   "source": [
    "### Standardizing the Data"
   ]
  },
  {
   "cell_type": "code",
   "execution_count": 38,
   "id": "23a59511-2c61-4abb-a441-3060f92a4964",
   "metadata": {},
   "outputs": [],
   "source": [
    "# Create a StandardScaler instance\n",
    "scaler = StandardScaler()\n",
    " \n",
    "# Apply the scaler model to fit the X-train data\n",
    "X_scaler = scaler.fit(X_train)\n",
    " \n",
    "# Transform the X_train and X_test DataFrames using the X_scaler\n",
    "X_train_scaled = X_scaler.transform(X_train)\n",
    "X_test_scaled = X_scaler.transform(X_test)"
   ]
  },
  {
   "cell_type": "markdown",
   "id": "d24ca5af-a7b5-42b5-931f-478e1b1b519b",
   "metadata": {},
   "source": [
    "### Incorporate the SVM Machine Learning Into the Trading Strategy"
   ]
  },
  {
   "cell_type": "code",
   "execution_count": 39,
   "id": "ba635614-159c-443e-bf53-4764f213bda0",
   "metadata": {},
   "outputs": [
    {
     "data": {
      "text/plain": [
       "array([1., 1., 1., 1., 1., 1., 1., 1., 1., 1.])"
      ]
     },
     "execution_count": 39,
     "metadata": {},
     "output_type": "execute_result"
    }
   ],
   "source": [
    "# Create the classifier model\n",
    "svm_model = svm.SVC()\n",
    " \n",
    "# Fit the model to the data using X_train_scaled and y_train\n",
    "svm_model = svm_model.fit(X_train_scaled, y_train)\n",
    "\n",
    "# Use the trained model to predict the trading signals for the training data\n",
    "training_signal_predictions = svm_model.predict(X_train_scaled)\n",
    "\n",
    "# Display the sample predictions\n",
    "training_signal_predictions[:10]"
   ]
  },
  {
   "cell_type": "code",
   "execution_count": 40,
   "id": "3eb0f716-3af0-44ca-9a54-2f00aedd4247",
   "metadata": {},
   "outputs": [
    {
     "name": "stdout",
     "output_type": "stream",
     "text": [
      "              precision    recall  f1-score   support\n",
      "\n",
      "        -1.0       0.62      0.39      0.48      1011\n",
      "         1.0       0.60      0.80      0.69      1173\n",
      "\n",
      "    accuracy                           0.61      2184\n",
      "   macro avg       0.61      0.59      0.58      2184\n",
      "weighted avg       0.61      0.61      0.59      2184\n",
      "\n"
     ]
    }
   ],
   "source": [
    "# Evaluate the model using a classification report\n",
    "training_report = classification_report(y_train, training_signal_predictions)\n",
    "print(training_report)"
   ]
  },
  {
   "cell_type": "markdown",
   "id": "b4c751b2-8f01-4d30-9ce9-bb048105b22d",
   "metadata": {},
   "source": [
    "### Backtesting a Machine Learning Trading Algorithm"
   ]
  },
  {
   "cell_type": "code",
   "execution_count": 41,
   "id": "25fb34e4-7c2f-4cb5-91b2-dc4195fc8abb",
   "metadata": {},
   "outputs": [],
   "source": [
    "# Use the trained model to predict the trading signals for the testing data.\n",
    "testing_signal_predictions = svm_model.predict(X_test_scaled)"
   ]
  },
  {
   "cell_type": "code",
   "execution_count": 42,
   "id": "ae3af28c-99de-4b5c-91c8-c049e879589d",
   "metadata": {},
   "outputs": [
    {
     "name": "stdout",
     "output_type": "stream",
     "text": [
      "              precision    recall  f1-score   support\n",
      "\n",
      "        -1.0       0.61      0.43      0.51      7525\n",
      "         1.0       0.56      0.72      0.63      7485\n",
      "\n",
      "    accuracy                           0.58     15010\n",
      "   macro avg       0.59      0.58      0.57     15010\n",
      "weighted avg       0.59      0.58      0.57     15010\n",
      "\n"
     ]
    }
   ],
   "source": [
    "# Evaluate the model's ability to predict the trading signal for the testing data\n",
    "svm_testing_report = classification_report(y_test, testing_signal_predictions)\n",
    "print(svm_testing_report)"
   ]
  },
  {
   "cell_type": "code",
   "execution_count": 43,
   "id": "15c499bb-9266-4a8a-8a17-9cb4d0c21673",
   "metadata": {},
   "outputs": [
    {
     "data": {
      "text/html": [
       "<div>\n",
       "<style scoped>\n",
       "    .dataframe tbody tr th:only-of-type {\n",
       "        vertical-align: middle;\n",
       "    }\n",
       "\n",
       "    .dataframe tbody tr th {\n",
       "        vertical-align: top;\n",
       "    }\n",
       "\n",
       "    .dataframe thead th {\n",
       "        text-align: right;\n",
       "    }\n",
       "</style>\n",
       "<table border=\"1\" class=\"dataframe\">\n",
       "  <thead>\n",
       "    <tr style=\"text-align: right;\">\n",
       "      <th></th>\n",
       "      <th>predicted_signal</th>\n",
       "      <th>actual_returns</th>\n",
       "      <th>trading_algorithm_returns</th>\n",
       "    </tr>\n",
       "  </thead>\n",
       "  <tbody>\n",
       "    <tr>\n",
       "      <th>2021-02-28 04:00:00</th>\n",
       "      <td>-1.0</td>\n",
       "      <td>-0.003307</td>\n",
       "      <td>0.003307</td>\n",
       "    </tr>\n",
       "    <tr>\n",
       "      <th>2021-02-28 05:00:00</th>\n",
       "      <td>-1.0</td>\n",
       "      <td>0.004783</td>\n",
       "      <td>-0.004783</td>\n",
       "    </tr>\n",
       "    <tr>\n",
       "      <th>2021-02-28 06:00:00</th>\n",
       "      <td>-1.0</td>\n",
       "      <td>-0.006469</td>\n",
       "      <td>0.006469</td>\n",
       "    </tr>\n",
       "    <tr>\n",
       "      <th>2021-02-28 07:00:00</th>\n",
       "      <td>-1.0</td>\n",
       "      <td>-0.000909</td>\n",
       "      <td>0.000909</td>\n",
       "    </tr>\n",
       "    <tr>\n",
       "      <th>2021-02-28 08:00:00</th>\n",
       "      <td>-1.0</td>\n",
       "      <td>0.009159</td>\n",
       "      <td>-0.009159</td>\n",
       "    </tr>\n",
       "  </tbody>\n",
       "</table>\n",
       "</div>"
      ],
      "text/plain": [
       "                     predicted_signal  actual_returns  \\\n",
       "2021-02-28 04:00:00              -1.0       -0.003307   \n",
       "2021-02-28 05:00:00              -1.0        0.004783   \n",
       "2021-02-28 06:00:00              -1.0       -0.006469   \n",
       "2021-02-28 07:00:00              -1.0       -0.000909   \n",
       "2021-02-28 08:00:00              -1.0        0.009159   \n",
       "\n",
       "                     trading_algorithm_returns  \n",
       "2021-02-28 04:00:00                   0.003307  \n",
       "2021-02-28 05:00:00                  -0.004783  \n",
       "2021-02-28 06:00:00                   0.006469  \n",
       "2021-02-28 07:00:00                   0.000909  \n",
       "2021-02-28 08:00:00                  -0.009159  "
      ]
     },
     "execution_count": 43,
     "metadata": {},
     "output_type": "execute_result"
    }
   ],
   "source": [
    "# Create a new empty predictions DataFrame using code provided below.\n",
    "predictions_df = pd.DataFrame(index=X_test.index)\n",
    "predictions_df[\"predicted_signal\"] = testing_signal_predictions\n",
    "predictions_df[\"actual_returns\"] = btc_df[\"actual_returns\"]\n",
    "predictions_df[\"trading_algorithm_returns\"] = predictions_df[\"actual_returns\"] * predictions_df[\"predicted_signal\"]\n",
    "predictions_df.head()"
   ]
  },
  {
   "cell_type": "code",
   "execution_count": 58,
   "id": "c8486160-88e8-4d6a-b4cf-ad1495c1be6e",
   "metadata": {},
   "outputs": [
    {
     "data": {
      "text/plain": [
       "<AxesSubplot:title={'center':'SVM Trading Algorithm'}>"
      ]
     },
     "execution_count": 58,
     "metadata": {},
     "output_type": "execute_result"
    },
    {
     "data": {
      "image/png": "[encoded data removed]",
      "text/plain": [
       "<Figure size 640x480 with 1 Axes>"
      ]
     },
     "metadata": {},
     "output_type": "display_data"
    }
   ],
   "source": [
    "# Calculate and plot the cumulative returns for the `actual_returns` and the `trading_algorithm_returns`\n",
    "(1 + predictions_df[[\"actual_returns\", \"trading_algorithm_returns\"]]).cumprod().plot(title = \"SVM Trading Algorithm\")"
   ]
  },
  {
   "cell_type": "markdown",
   "id": "d93a76b0-88dd-4290-88bd-32751b52873d",
   "metadata": {},
   "source": [
    "### Add a Logistic Regression Model"
   ]
  },
  {
   "cell_type": "code",
   "execution_count": 46,
   "id": "012b4a36-882a-4b21-bea2-d518c720a2e9",
   "metadata": {},
   "outputs": [],
   "source": [
    "# Create an instance of the LogisticRegression model\n",
    "logistic_regression_model = LogisticRegression()"
   ]
  },
  {
   "cell_type": "code",
   "execution_count": 47,
   "id": "6b53a636-2f29-4652-9605-c8a37859d1c4",
   "metadata": {},
   "outputs": [
    {
     "data": {
      "text/plain": [
       "LogisticRegression()"
      ]
     },
     "execution_count": 47,
     "metadata": {},
     "output_type": "execute_result"
    }
   ],
   "source": [
    "# Fit the LogisticRegression model\n",
    "logistic_regression_model.fit(X_train_scaled, y_train)"
   ]
  },
  {
   "cell_type": "code",
   "execution_count": 48,
   "id": "f773361a-9409-4436-ad12-a6b0debf4792",
   "metadata": {},
   "outputs": [
    {
     "data": {
      "text/plain": [
       "array([ 1.,  1.,  1., ..., -1., -1., -1.])"
      ]
     },
     "execution_count": 48,
     "metadata": {},
     "output_type": "execute_result"
    }
   ],
   "source": [
    "# Use the trained LogisticRegression model to predict the trading signals for the training data\n",
    "lr_training_signal_predictions = logistic_regression_model.predict(X_train_scaled)\n",
    "\n",
    "# Display the predictions\n",
    "lr_training_signal_predictions"
   ]
  },
  {
   "cell_type": "code",
   "execution_count": 49,
   "id": "363f74bf-6126-4d7c-b314-270e27871259",
   "metadata": {},
   "outputs": [
    {
     "name": "stdout",
     "output_type": "stream",
     "text": [
      "              precision    recall  f1-score   support\n",
      "\n",
      "        -1.0       0.61      0.51      0.55      1011\n",
      "         1.0       0.63      0.71      0.67      1173\n",
      "\n",
      "    accuracy                           0.62      2184\n",
      "   macro avg       0.62      0.61      0.61      2184\n",
      "weighted avg       0.62      0.62      0.62      2184\n",
      "\n"
     ]
    }
   ],
   "source": [
    "# Generate a classification report using the training data and the logistic regression model's predications\n",
    "lr_training_report = classification_report(y_train, lr_training_signal_predictions)\n",
    "\n",
    "# Review the classification report\n",
    "print(lr_training_report)"
   ]
  },
  {
   "cell_type": "code",
   "execution_count": 52,
   "id": "e61726b9-abe1-4da6-a57f-58f5897d3e67",
   "metadata": {},
   "outputs": [],
   "source": [
    "# Use the trained model to predict the trading signals for the testing data.\n",
    "lr_testing_signal_predictions = logistic_regression_model.predict(X_test_scaled)"
   ]
  },
  {
   "cell_type": "code",
   "execution_count": 53,
   "id": "32e0a45c-4c95-4eb4-86fa-0bdbf955ed68",
   "metadata": {},
   "outputs": [
    {
     "name": "stdout",
     "output_type": "stream",
     "text": [
      "              precision    recall  f1-score   support\n",
      "\n",
      "        -1.0       0.60      0.60      0.60      7525\n",
      "         1.0       0.60      0.60      0.60      7485\n",
      "\n",
      "    accuracy                           0.60     15010\n",
      "   macro avg       0.60      0.60      0.60     15010\n",
      "weighted avg       0.60      0.60      0.60     15010\n",
      "\n"
     ]
    }
   ],
   "source": [
    "# Generate a classification report using the testing data and the logistic regression model's predictions\n",
    "lr_testing_report = classification_report(y_test, lr_testing_signal_predictions)\n",
    "\n",
    "# Review the testing classification report\n",
    "print(lr_testing_report)"
   ]
  },
  {
   "cell_type": "code",
   "execution_count": 54,
   "id": "8c48c777-89fc-4375-a94f-3480c399479f",
   "metadata": {},
   "outputs": [
    {
     "data": {
      "text/html": [
       "<div>\n",
       "<style scoped>\n",
       "    .dataframe tbody tr th:only-of-type {\n",
       "        vertical-align: middle;\n",
       "    }\n",
       "\n",
       "    .dataframe tbody tr th {\n",
       "        vertical-align: top;\n",
       "    }\n",
       "\n",
       "    .dataframe thead th {\n",
       "        text-align: right;\n",
       "    }\n",
       "</style>\n",
       "<table border=\"1\" class=\"dataframe\">\n",
       "  <thead>\n",
       "    <tr style=\"text-align: right;\">\n",
       "      <th></th>\n",
       "      <th>predicted_signal</th>\n",
       "      <th>actual_returns</th>\n",
       "      <th>trading_algorithm_returns</th>\n",
       "    </tr>\n",
       "  </thead>\n",
       "  <tbody>\n",
       "    <tr>\n",
       "      <th>2021-02-28 04:00:00</th>\n",
       "      <td>-1.0</td>\n",
       "      <td>-0.003307</td>\n",
       "      <td>0.003307</td>\n",
       "    </tr>\n",
       "    <tr>\n",
       "      <th>2021-02-28 05:00:00</th>\n",
       "      <td>-1.0</td>\n",
       "      <td>0.004783</td>\n",
       "      <td>-0.004783</td>\n",
       "    </tr>\n",
       "    <tr>\n",
       "      <th>2021-02-28 06:00:00</th>\n",
       "      <td>-1.0</td>\n",
       "      <td>-0.006469</td>\n",
       "      <td>0.006469</td>\n",
       "    </tr>\n",
       "    <tr>\n",
       "      <th>2021-02-28 07:00:00</th>\n",
       "      <td>-1.0</td>\n",
       "      <td>-0.000909</td>\n",
       "      <td>0.000909</td>\n",
       "    </tr>\n",
       "    <tr>\n",
       "      <th>2021-02-28 08:00:00</th>\n",
       "      <td>-1.0</td>\n",
       "      <td>0.009159</td>\n",
       "      <td>-0.009159</td>\n",
       "    </tr>\n",
       "  </tbody>\n",
       "</table>\n",
       "</div>"
      ],
      "text/plain": [
       "                     predicted_signal  actual_returns  \\\n",
       "2021-02-28 04:00:00              -1.0       -0.003307   \n",
       "2021-02-28 05:00:00              -1.0        0.004783   \n",
       "2021-02-28 06:00:00              -1.0       -0.006469   \n",
       "2021-02-28 07:00:00              -1.0       -0.000909   \n",
       "2021-02-28 08:00:00              -1.0        0.009159   \n",
       "\n",
       "                     trading_algorithm_returns  \n",
       "2021-02-28 04:00:00                   0.003307  \n",
       "2021-02-28 05:00:00                  -0.004783  \n",
       "2021-02-28 06:00:00                   0.006469  \n",
       "2021-02-28 07:00:00                   0.000909  \n",
       "2021-02-28 08:00:00                  -0.009159  "
      ]
     },
     "execution_count": 54,
     "metadata": {},
     "output_type": "execute_result"
    }
   ],
   "source": [
    "# Create a new empty predictions DataFrame using code provided below.\n",
    "lr_predictions_df = pd.DataFrame(index=X_test.index)\n",
    "lr_predictions_df[\"predicted_signal\"] = lr_testing_signal_predictions\n",
    "lr_predictions_df[\"actual_returns\"] = btc_df[\"actual_returns\"]\n",
    "lr_predictions_df[\"trading_algorithm_returns\"] = lr_predictions_df[\"actual_returns\"] * lr_predictions_df[\"predicted_signal\"]\n",
    "lr_predictions_df.head()"
   ]
  },
  {
   "cell_type": "code",
   "execution_count": 62,
   "id": "f79ad791-8364-4405-b2a1-b61049fad564",
   "metadata": {},
   "outputs": [
    {
     "data": {
      "text/plain": [
       "<AxesSubplot:title={'center':'Logistic Regression Trading Algorithm'}>"
      ]
     },
     "execution_count": 62,
     "metadata": {},
     "output_type": "execute_result"
    },
    {
     "data": {
      "image/png": "[encoded data removed]",
      "text/plain": [
       "<Figure size 640x480 with 1 Axes>"
      ]
     },
     "metadata": {},
     "output_type": "display_data"
    }
   ],
   "source": [
    "# Calculate and plot the cumulative returns for the `actual_returns` and the `trading_algorithm_returns`\n",
    "(1 + lr_predictions_df[[\"actual_returns\", \"trading_algorithm_returns\"]]).cumprod().plot(title = \"Logistic Regression Trading Algorithm\")"
   ]
  },
  {
   "cell_type": "markdown",
   "id": "976fdc93-a1a6-4dd9-8935-a84f8bde1586",
   "metadata": {},
   "source": [
    "## Compare the performance of the logistic regression and SVM models using the classification reports generated with the testing data. "
   ]
  },
  {
   "cell_type": "code",
   "execution_count": 56,
   "id": "e7fba2dd-2ece-4c41-89c2-f0d28d87f1c6",
   "metadata": {},
   "outputs": [
    {
     "name": "stdout",
     "output_type": "stream",
     "text": [
      "Logistic Regression Classification Report\n",
      "              precision    recall  f1-score   support\n",
      "\n",
      "        -1.0       0.60      0.60      0.60      7525\n",
      "         1.0       0.60      0.60      0.60      7485\n",
      "\n",
      "    accuracy                           0.60     15010\n",
      "   macro avg       0.60      0.60      0.60     15010\n",
      "weighted avg       0.60      0.60      0.60     15010\n",
      "\n"
     ]
    }
   ],
   "source": [
    "# Print the classification report for the Logistic Regression model using the test data\n",
    "print(\"Logistic Regression Classification Report\")\n",
    "print(lr_testing_report)"
   ]
  },
  {
   "cell_type": "code",
   "execution_count": 57,
   "id": "3b525d8e-4721-4300-9ada-278162e951f5",
   "metadata": {},
   "outputs": [
    {
     "name": "stdout",
     "output_type": "stream",
     "text": [
      "SVM Classification Report\n",
      "              precision    recall  f1-score   support\n",
      "\n",
      "        -1.0       0.61      0.43      0.51      7525\n",
      "         1.0       0.56      0.72      0.63      7485\n",
      "\n",
      "    accuracy                           0.58     15010\n",
      "   macro avg       0.59      0.58      0.57     15010\n",
      "weighted avg       0.59      0.58      0.57     15010\n",
      "\n"
     ]
    }
   ],
   "source": [
    "# Print the classification report for the SVM model using the test data\n",
    "print(\"SVM Classification Report\")\n",
    "print(svm_testing_report)"
   ]
  },
  {
   "cell_type": "markdown",
   "id": "91534b80-bafb-48ba-9564-648d8544a4fe",
   "metadata": {},
   "source": [
    "The logistic regression model has a slightly better accuracy score over the SVM model. It also has the exact same value for precision and recall across both the buy (1) and sell (-1) signals. Due to these reasons you could say the logistic regression model is a better classifier than the SVM, although the SVM trading algorithm returns outperforms the logistic trading algorithm returns by 40%.\n"
   ]
  },
  {
   "cell_type": "code",
   "execution_count": null,
   "id": "4c356708-78ec-4e06-b557-0d736cca6997",
   "metadata": {},
   "outputs": [],
   "source": []
  }
 ],
 "metadata": {
  "kernelspec": {
   "display_name": "Python 3 (ipykernel)",
   "language": "python",
   "name": "python3"
  },
  "language_info": {
   "codemirror_mode": {
    "name": "ipython",
    "version": 3
   },
   "file_extension": ".py",
   "mimetype": "text/x-python",
   "name": "python",
   "nbconvert_exporter": "python",
   "pygments_lexer": "ipython3",
   "version": "3.7.13"
  }
 },
 "nbformat": 4,
 "nbformat_minor": 5
}
