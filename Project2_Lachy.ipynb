{
 "cells": [
  {
   "cell_type": "code",
   "execution_count": 16,
   "id": "f27cda93-e10b-451a-b9a1-675d14136697",
   "metadata": {},
   "outputs": [],
   "source": [
    "#Imports (Scikit-Learn, yfinance, Pandas, )"
   ]
  },
  {
   "cell_type": "code",
   "execution_count": 2,
   "id": "ccc5a811-b6c2-47b1-8c87-1185762ee99b",
   "metadata": {},
   "outputs": [],
   "source": [
    "#Call in API"
   ]
  },
  {
   "cell_type": "code",
   "execution_count": 12,
   "id": "135a62bb-9009-4f07-af95-270378a1bf58",
   "metadata": {},
   "outputs": [],
   "source": [
    "#Create DataFrame (Crypto - Bitcoin, Ethereum, Doge)"
   ]
  },
  {
   "cell_type": "code",
   "execution_count": 4,
   "id": "07e49fa1-2699-41f3-8234-27f586135d4f",
   "metadata": {},
   "outputs": [],
   "source": [
    "#Clean Up Data"
   ]
  },
  {
   "cell_type": "code",
   "execution_count": 5,
   "id": "39c93633-906a-478c-b23e-49ba45f9d1a4",
   "metadata": {},
   "outputs": [],
   "source": [
    "#Slice Data"
   ]
  },
  {
   "cell_type": "code",
   "execution_count": 6,
   "id": "91769f9d-ae31-4922-88cc-14b3c2a00105",
   "metadata": {},
   "outputs": [],
   "source": [
    "#Create Signals DataFrame"
   ]
  },
  {
   "cell_type": "code",
   "execution_count": 7,
   "id": "54f2cbe2-1a2a-4d8a-b5ce-0bab333c35e6",
   "metadata": {},
   "outputs": [],
   "source": [
    "#Create Signals"
   ]
  },
  {
   "cell_type": "code",
   "execution_count": 8,
   "id": "023f6ef2-7977-45d4-bef5-aa93cd8a68a1",
   "metadata": {},
   "outputs": [],
   "source": [
    "#Display Signals"
   ]
  },
  {
   "cell_type": "code",
   "execution_count": 14,
   "id": "61eed665-7d7c-451a-a7dd-eb3bbc234184",
   "metadata": {},
   "outputs": [],
   "source": [
    "#Logistics Regression & ?"
   ]
  },
  {
   "cell_type": "code",
   "execution_count": 9,
   "id": "c095283a-35bc-4650-99cb-50a96bacda7f",
   "metadata": {},
   "outputs": [],
   "source": [
    "#Set trading variables (Initial Capital, num of Shares)"
   ]
  },
  {
   "cell_type": "code",
   "execution_count": 10,
   "id": "02b74bfe-d5a5-4616-b06e-c83fb2bcf1e0",
   "metadata": {},
   "outputs": [],
   "source": [
    "#Complete trades using signals"
   ]
  },
  {
   "cell_type": "code",
   "execution_count": 17,
   "id": "b0ad1e5d-cf23-46fc-a23d-eebce40fbec0",
   "metadata": {},
   "outputs": [],
   "source": [
    "#Display Portfolio"
   ]
  },
  {
   "cell_type": "code",
   "execution_count": null,
   "id": "dfc98237-374b-4c1c-923a-c0d46fc67806",
   "metadata": {},
   "outputs": [],
   "source": []
  }
 ],
 "metadata": {
  "kernelspec": {
   "display_name": "Python 3 (ipykernel)",
   "language": "python",
   "name": "python3"
  },
  "language_info": {
   "codemirror_mode": {
    "name": "ipython",
    "version": 3
   },
   "file_extension": ".py",
   "mimetype": "text/x-python",
   "name": "python",
   "nbconvert_exporter": "python",
   "pygments_lexer": "ipython3",
   "version": "3.7.13"
  }
 },
 "nbformat": 4,
 "nbformat_minor": 5
}
